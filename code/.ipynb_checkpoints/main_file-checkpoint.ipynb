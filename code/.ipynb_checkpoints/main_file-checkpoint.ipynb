{
 "cells": [
  {
   "cell_type": "code",
   "execution_count": 1,
   "metadata": {},
   "outputs": [],
   "source": [
    "import csv"
   ]
  },
  {
   "cell_type": "code",
   "execution_count": 2,
   "metadata": {},
   "outputs": [],
   "source": [
    "stories = []"
   ]
  },
  {
   "cell_type": "code",
   "execution_count": 3,
   "metadata": {},
   "outputs": [],
   "source": [
    "with open('stories.csv') as f:\n",
    "    reader = csv.reader(f)\n",
    "    for story in reader:\n",
    "        stories.append({'story_id': story[1], 'title': story[2], 'english_title': story[3], 'reading_level_updated': story[4], 'story_language': story[5], 'synopsis': story[6], 'content': story[7], 'category_name': story[8], 'tag_name': story[9], 'story_original_title': story[10]})\n",
    "    "
   ]
  },
  {
   "cell_type": "markdown",
   "metadata": {},
   "source": [
    "Stories currently has all stories through all languages. Now, taking only stories in Hindi language."
   ]
  },
  {
   "cell_type": "code",
   "execution_count": 4,
   "metadata": {},
   "outputs": [],
   "source": [
    "stories_hindi = []\n",
    "for each in stories:\n",
    "    if each['story_language']=='Hindi':\n",
    "        stories_hindi.append(each)"
   ]
  },
  {
   "cell_type": "code",
   "execution_count": 5,
   "metadata": {},
   "outputs": [
    {
     "data": {
      "text/plain": [
       "920"
      ]
     },
     "execution_count": 5,
     "metadata": {},
     "output_type": "execute_result"
    }
   ],
   "source": [
    "len(stories_hindi)"
   ]
  },
  {
   "cell_type": "code",
   "execution_count": 6,
   "metadata": {},
   "outputs": [],
   "source": [
    "from cltk.corpus.utils.importer import CorpusImporter"
   ]
  },
  {
   "cell_type": "markdown",
   "metadata": {},
   "source": [
    "Using tokenizer based on rules written by LTRC."
   ]
  },
  {
   "cell_type": "code",
   "execution_count": 7,
   "metadata": {},
   "outputs": [],
   "source": [
    "c = CorpusImporter('hindi')"
   ]
  },
  {
   "cell_type": "code",
   "execution_count": 8,
   "metadata": {},
   "outputs": [],
   "source": [
    "from cltk.tokenize.sentence import TokenizeSentence"
   ]
  },
  {
   "cell_type": "markdown",
   "metadata": {},
   "source": [
    "Loading the Hindi tokenizer."
   ]
  },
  {
   "cell_type": "code",
   "execution_count": 9,
   "metadata": {},
   "outputs": [],
   "source": [
    "hindi_tokenizer = TokenizeSentence('hindi')"
   ]
  },
  {
   "cell_type": "markdown",
   "metadata": {},
   "source": [
    "Testing the tokenizer."
   ]
  },
  {
   "cell_type": "code",
   "execution_count": 10,
   "metadata": {},
   "outputs": [
    {
     "data": {
      "text/plain": [
       "'पहलवान जी।  दस किलो दूध पी जाते।  पचास रोटी खाते।  100 किलो वज़न उठाते।  खूब अकड़ कर चलते।  सब बच्चों पर हुक्म चलाते।   एक दिन गप्पू बोला, “मुझसे कुश्ती लड़ोगे?” \\u2003 पहलवान हँसा। फिर मान गया।  दोनों ने ताल ठोंकी।  पहलवान ने गप्पू को दबोच लिया।  गप्पू ने उसके पेट में गुदगुदी लगायी।  ही...ही...ही... पहलवान उछल पड़ा।  गप्पू उसे नचाने लगा।  पहलवान की हालत खराब। मैदान छोड़ भाग लिया।  अब बच्चे उससे नहीं डरते। वह बच्चों से डरता है। '"
      ]
     },
     "execution_count": 10,
     "metadata": {},
     "output_type": "execute_result"
    }
   ],
   "source": [
    "stories_hindi[6]['content']"
   ]
  },
  {
   "cell_type": "code",
   "execution_count": 11,
   "metadata": {},
   "outputs": [],
   "source": [
    "six_tokenized = hindi_tokenizer.tokenize(stories_hindi[6]['content'])"
   ]
  },
  {
   "cell_type": "code",
   "execution_count": 12,
   "metadata": {},
   "outputs": [
    {
     "data": {
      "text/plain": [
       "['पहलवान',\n",
       " 'जी',\n",
       " '।',\n",
       " 'दस',\n",
       " 'किलो',\n",
       " 'दूध',\n",
       " 'पी',\n",
       " 'जाते',\n",
       " '।',\n",
       " 'पचास',\n",
       " 'रोटी',\n",
       " 'खाते',\n",
       " '।',\n",
       " '100',\n",
       " 'किलो',\n",
       " 'वज़न',\n",
       " 'उठाते',\n",
       " '।',\n",
       " 'खूब',\n",
       " 'अकड़',\n",
       " 'कर',\n",
       " 'चलते',\n",
       " '।',\n",
       " 'सब',\n",
       " 'बच्चों',\n",
       " 'पर',\n",
       " 'हुक्म',\n",
       " 'चलाते',\n",
       " '।',\n",
       " 'एक',\n",
       " 'दिन',\n",
       " 'गप्पू',\n",
       " 'बोला',\n",
       " ',',\n",
       " '“मुझसे',\n",
       " 'कुश्ती',\n",
       " 'लड़ोगे',\n",
       " '?',\n",
       " '”',\n",
       " '\\u2003',\n",
       " 'पहलवान',\n",
       " 'हँसा',\n",
       " '।',\n",
       " 'फिर',\n",
       " 'मान',\n",
       " 'गया',\n",
       " '।',\n",
       " 'दोनों',\n",
       " 'ने',\n",
       " 'ताल',\n",
       " 'ठोंकी',\n",
       " '।',\n",
       " 'पहलवान',\n",
       " 'ने',\n",
       " 'गप्पू',\n",
       " 'को',\n",
       " 'दबोच',\n",
       " 'लिया',\n",
       " '।',\n",
       " 'गप्पू',\n",
       " 'ने',\n",
       " 'उसके',\n",
       " 'पेट',\n",
       " 'में',\n",
       " 'गुदगुदी',\n",
       " 'लगायी',\n",
       " '।',\n",
       " 'ही',\n",
       " '.',\n",
       " '.',\n",
       " '.',\n",
       " 'ही',\n",
       " '.',\n",
       " '.',\n",
       " '.',\n",
       " 'ही',\n",
       " '.',\n",
       " '.',\n",
       " '.',\n",
       " 'पहलवान',\n",
       " 'उछल',\n",
       " 'पड़ा',\n",
       " '।',\n",
       " 'गप्पू',\n",
       " 'उसे',\n",
       " 'नचाने',\n",
       " 'लगा',\n",
       " '।',\n",
       " 'पहलवान',\n",
       " 'की',\n",
       " 'हालत',\n",
       " 'खराब',\n",
       " '।',\n",
       " 'मैदान',\n",
       " 'छोड़',\n",
       " 'भाग',\n",
       " 'लिया',\n",
       " '।',\n",
       " 'अब',\n",
       " 'बच्चे',\n",
       " 'उससे',\n",
       " 'नहीं',\n",
       " 'डरते',\n",
       " '।',\n",
       " 'वह',\n",
       " 'बच्चों',\n",
       " 'से',\n",
       " 'डरता',\n",
       " 'है',\n",
       " '।']"
      ]
     },
     "execution_count": 12,
     "metadata": {},
     "output_type": "execute_result"
    }
   ],
   "source": [
    "six_tokenized"
   ]
  },
  {
   "cell_type": "markdown",
   "metadata": {},
   "source": [
    "Working well!"
   ]
  },
  {
   "cell_type": "code",
   "execution_count": 13,
   "metadata": {},
   "outputs": [],
   "source": [
    "for index, each in enumerate(stories_hindi):\n",
    "    stories_hindi[index]['tok_content'] = hindi_tokenizer.tokenize(stories_hindi[index]['content'])"
   ]
  },
  {
   "cell_type": "code",
   "execution_count": 14,
   "metadata": {},
   "outputs": [],
   "source": [
    "reading_levels = {}"
   ]
  },
  {
   "cell_type": "code",
   "execution_count": 15,
   "metadata": {},
   "outputs": [],
   "source": [
    "for index, each in enumerate(stories_hindi):\n",
    "    reading_levels[each['reading_level_updated']] = 1"
   ]
  },
  {
   "cell_type": "code",
   "execution_count": 16,
   "metadata": {},
   "outputs": [
    {
     "data": {
      "text/plain": [
       "{'L1': 1, 'L2': 1, 'L3': 1, 'L4': 1}"
      ]
     },
     "execution_count": 16,
     "metadata": {},
     "output_type": "execute_result"
    }
   ],
   "source": [
    "reading_levels"
   ]
  },
  {
   "cell_type": "markdown",
   "metadata": {},
   "source": [
    "This gives us the number of reading levels - in case it's not fixed."
   ]
  },
  {
   "cell_type": "code",
   "execution_count": 17,
   "metadata": {},
   "outputs": [],
   "source": [
    "num_levels = len(reading_levels)"
   ]
  },
  {
   "cell_type": "code",
   "execution_count": 19,
   "metadata": {},
   "outputs": [
    {
     "ename": "SyntaxError",
     "evalue": "unexpected EOF while parsing (<ipython-input-19-ac5459b77148>, line 1)",
     "output_type": "error",
     "traceback": [
      "\u001b[0;36m  File \u001b[0;32m\"<ipython-input-19-ac5459b77148>\"\u001b[0;36m, line \u001b[0;32m1\u001b[0m\n\u001b[0;31m    for each in reading_levels:\u001b[0m\n\u001b[0m                               ^\u001b[0m\n\u001b[0;31mSyntaxError\u001b[0m\u001b[0;31m:\u001b[0m unexpected EOF while parsing\n"
     ]
    }
   ],
   "source": [
    "for each in reading_levels:\n",
    "    "
   ]
  },
  {
   "cell_type": "code",
   "execution_count": null,
   "metadata": {},
   "outputs": [],
   "source": []
  }
 ],
 "metadata": {
  "kernelspec": {
   "display_name": "Python 3",
   "language": "python",
   "name": "python3"
  },
  "language_info": {
   "codemirror_mode": {
    "name": "ipython",
    "version": 3
   },
   "file_extension": ".py",
   "mimetype": "text/x-python",
   "name": "python",
   "nbconvert_exporter": "python",
   "pygments_lexer": "ipython3",
   "version": "3.6.7"
  }
 },
 "nbformat": 4,
 "nbformat_minor": 2
}
